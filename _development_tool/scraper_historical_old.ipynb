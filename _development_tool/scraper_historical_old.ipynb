{
 "cells": [
  {
   "cell_type": "code",
   "execution_count": 1,
   "id": "8fc7b1ff",
   "metadata": {},
   "outputs": [],
   "source": [
    "import pandas as pd\n",
    "import sqlalchemy\n",
    "import src.config as config\n",
    "data_path = config.PL_OLDEST_HISTORICAL_DATA\n",
    "db = sqlalchemy.create_engine(\n",
    "    config.DATABASE_ENGINE,\n",
    ")"
   ]
  },
  {
   "cell_type": "code",
   "execution_count": 2,
   "outputs": [
    {
     "name": "stdout",
     "output_type": "stream",
     "text": [
      "           day  id_cntry  id_province  cases  deaths  recovered\n",
      "0   2020-03-03       136           16      0       0          0\n",
      "1   2020-03-04       136           16      1       0          0\n",
      "2   2020-03-05       136           16      0       0          0\n",
      "3   2020-03-06       136           16      4       0          0\n",
      "4   2020-03-07       136           16      1       0          0\n",
      "..         ...       ...          ...    ...     ...        ...\n",
      "261 2020-11-19       136           16  23975     637      19914\n",
      "262 2020-11-20       136           16  22464     626      25275\n",
      "263 2020-11-21       136           16  24213     574      16896\n",
      "264 2020-11-22       136           16  17856     330      14897\n",
      "265 2020-11-23       136           16  15002     156      15849\n",
      "\n",
      "[266 rows x 6 columns]\n"
     ]
    }
   ],
   "source": [
    "raw_df = pd.read_csv(\n",
    "    data_path, encoding='cp1250', sep=';',\n",
    "    parse_dates=['Data'],\n",
    "    dayfirst=True,\n",
    "    thousands=' ',\n",
    ")\n",
    "raw_df.rename(inplace=True, columns={\n",
    "    \"Data\": \"day\",\n",
    "    \"Nowe przypadki\": config.CASES,\n",
    "    \"Zgony\": config.DEATHS,\n",
    "    \"Ozdrowieńcy (dzienna)\": config.RECOVERED\n",
    "})\n",
    "raw_df['id_cntry'] = 136\n",
    "raw_df['id_province'] = 16\n",
    "df=raw_df[['day','id_cntry','id_province', 'cases', 'deaths', 'recovered']]\n",
    "print(df)\n",
    "df.to_sql('cases', db, if_exists='append', index=False)"
   ],
   "metadata": {
    "collapsed": false,
    "pycharm": {
     "name": "#%%\n"
    }
   }
  },
  {
   "cell_type": "code",
   "execution_count": 2,
   "outputs": [],
   "source": [],
   "metadata": {
    "collapsed": false,
    "pycharm": {
     "name": "#%%\n"
    }
   }
  }
 ],
 "metadata": {
  "kernelspec": {
   "display_name": "Python 3 (ipykernel)",
   "language": "python",
   "name": "python3"
  },
  "language_info": {
   "codemirror_mode": {
    "name": "ipython",
    "version": 3
   },
   "file_extension": ".py",
   "mimetype": "text/x-python",
   "name": "python",
   "nbconvert_exporter": "python",
   "pygments_lexer": "ipython3",
   "version": "3.10.0"
  }
 },
 "nbformat": 4,
 "nbformat_minor": 5
}